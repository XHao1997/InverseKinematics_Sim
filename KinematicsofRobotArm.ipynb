{
 "cells": [
  {
   "cell_type": "code",
   "execution_count": 3,
   "id": "60715f89",
   "metadata": {},
   "outputs": [],
   "source": [
    "import numpy as np\n",
    "import math\n",
    "import matplotlib.pyplot as plt\n",
    "import pygame"
   ]
  },
  {
   "cell_type": "code",
   "execution_count": 4,
   "id": "f25848d3",
   "metadata": {},
   "outputs": [],
   "source": [
    "'''ROBOT MODEL'''\n",
    "class robot_arm_2dof:\n",
    "    def __init__(self, l):\n",
    "        self.l = l  # link length\n",
    "        self.q = np.zeros([2])  # joint position\n",
    "        self.q2 = np.zeros([2])  # joint position\n",
    "\n",
    "    # forward kinematics\n",
    "    def FK(self, q):\n",
    "        p = np.zeros([2])  # endpoint position\n",
    "        p[0] = self.l[0] * math.cos(self.q[0]) + self.l[1] * math.cos(self.q[1] + self.q[0])\n",
    "        p[1] = self.l[0] * math.sin(self.q[0]) + self.l[1] * math.sin(self.q[1] + self.q[0])\n",
    "        return p\n",
    "\n",
    "    def FK_DH(self, q):\n",
    "        p = np.zeros([2])  # endpoint position\n",
    "        # DH parameter\n",
    "        alpha = np.zeros([2])\n",
    "        a = np.zeros([2])\n",
    "        a[0] = self.l[0]\n",
    "        a[1] = self.l[1]\n",
    "        d = np.zeros([2])\n",
    "        theta = np.zeros([2])\n",
    "        theta[0] = self.q[0]\n",
    "        theta[1] = self.q[1]\n",
    "        A = np.identity(4)\n",
    "        for i in range(2):\n",
    "            T_zd = np.array([[1, 0, 0, 0], [0, 1, 0, 0], [0, 0, 1, d[i]], [0, 0, 0, 1]])\n",
    "            T_ztheta = np.array(\n",
    "                [[np.cos(theta[i]), -np.sin(theta[i]), 0, 0], [np.sin(theta[i]), np.cos(theta[i]), 0, 0], [0, 0, 1, 0],\n",
    "                 [0, 0, 0, 1]])\n",
    "            T_xa = np.array([[1, 0, 0, a[i]], [0, 1, 0, 0], [0, 0, 1, 0], [0, 0, 0, 1]])\n",
    "            T_xalpha = np.array(\n",
    "                [[1, 0, 0, 0], [0, np.cos(alpha[i]), -np.sin(alpha[i]), 0], [0, np.sin(alpha[i]), np.cos(alpha[i]), 0],\n",
    "                 [0, 0, 0, 1]])\n",
    "            A = A.dot(T_zd.dot(T_ztheta.dot(T_xa).dot(T_xalpha)))\n",
    "        p = A.dot(np.array([0, 0, 0, 1]))\n",
    "        return p[0:2]\n",
    "\n",
    "    # Jacobian matrix\n",
    "    def Jacobian(self):\n",
    "        J = np.zeros([2, 2])\n",
    "        J[0, 0] = self.l[0] * (-math.sin(self.q[0]) - self.l[1] * math.sin(self.q[0] + self.q[1]))\n",
    "        J[0, 1] = self.l[1] * (-math.sin(self.q[1] + self.q[0]))\n",
    "        J[1, 0] = self.l[0] * math.cos(self.q[0]) + l[1] * math.cos(self.q[0] + self.q[1])\n",
    "        J[1, 1] = self.l[1] * (math.cos(self.q[0] + self.q[1]))\n",
    "\n",
    "        return J\n",
    "\n",
    "    # inverse kinematics\n",
    "    def IK_Analytical(self, p):\n",
    "        q = np.zeros([2])\n",
    "        r = np.sqrt(p[0] ** 2 + p[1] ** 2)\n",
    "        q[1] = np.pi - math.acos((self.l[0] ** 2 + self.l[1] ** 2 - r ** 2) / (2 * self.l[0] * self.l[1]))\n",
    "        q[0] = math.atan2(p[1], p[0]) - math.acos((self.l[0] ** 2 - self.l[1] ** 2 + r ** 2) / (2 * self.l[0] * r))\n",
    "\n",
    "        return q\n",
    "\n",
    "    # inverse kinematics\n",
    "    def IK_Numerical(self, p):\n",
    "        q_sim = []\n",
    "        error = p - self.FK(self.q)\n",
    "        while abs(np.linalg.norm(error)) > 0.0001:\n",
    "            J = self.Jacobian()\n",
    "            # print(np.linalg.inv(J))\n",
    "            self.q = self.q + np.linalg.inv(J).dot(error)\n",
    "            error = p - self.FK(self.q)\n",
    "            q_sim.append(self.q)\n",
    "        return self.q, q_sim\n",
    "\n",
    "    # state change\n",
    "    def Init_state(self, q):\n",
    "        self.q = q"
   ]
  },
  {
   "cell_type": "code",
   "execution_count": 81,
   "id": "d86fd2d6",
   "metadata": {},
   "outputs": [],
   "source": [
    "class robotarm_3RP:\n",
    "    def __init__(self):\n",
    "        self.q = np.array([np.pi/2,0,0,0])  # joint position\n",
    "    def FK_SDH(self):\n",
    "        theta = [np.pi/2 + self.q[0], 0, -np.pi/2+ self.q[2], + self.q[3]]\n",
    "        d = [0.032, self.q[1] , 0.256, 0]\n",
    "        a =  [0, 0, -0.03, 0]\n",
    "        alpha = [-np.pi/2, 0, -np.pi/2, 0]\n",
    "        A = np.identity(4)\n",
    "        p = [np.array([0,0,0,1])]\n",
    "        for i in range(4):\n",
    "            T_zd = np.array([[1, 0, 0, 0], [0, 1, 0, 0], [0, 0, 1, d[i]], [0, 0, 0, 1]])\n",
    "            T_ztheta = np.array(\n",
    "                [[np.cos(theta[i]), -np.sin(theta[i]), 0, 0], \n",
    "                 [np.sin(theta[i]), np.cos(theta[i]), 0, 0], \n",
    "                 [0, 0, 1, 0],\n",
    "                 [0, 0, 0, 1]])\n",
    "            T_xa = np.array([[1, 0, 0, a[i]], \n",
    "                             [0, 1, 0, 0], \n",
    "                             [0, 0, 1, 0], \n",
    "                             [0, 0, 0, 1]])\n",
    "            T_xalpha = np.array(\n",
    "                [[1, 0, 0, 0], \n",
    "                 [0, np.cos(alpha[i]), -np.sin(alpha[i]), 0], \n",
    "                 [0, np.sin(alpha[i]), np.cos(alpha[i]), 0],\n",
    "                 [0, 0, 0, 1]])\n",
    "            \n",
    "            A = A.dot(T_zd.dot(T_ztheta.dot(T_xa).dot(T_xalpha)))\n",
    "            p.append(A.dot(np.array([0, 0, 0, 1])))\n",
    "        return p\n",
    "    \n",
    "        \n",
    "    def IK_analytical(self):\n",
    "        return\n",
    "    def IK_numerical(self):\n",
    "        \n",
    "        return\n",
    "    def Jacobian(self):\n",
    "        return"
   ]
  },
  {
   "cell_type": "code",
   "execution_count": 82,
   "id": "ef31a787",
   "metadata": {},
   "outputs": [
    {
     "name": "stdout",
     "output_type": "stream",
     "text": [
      "[0 0 0 1]\n",
      "[0.    0.    0.032 1.   ]\n",
      "[0.    0.    0.032 1.   ]\n",
      "[-2.95139879e-17 -2.56000000e-01  2.00000000e-03  1.00000000e+00]\n",
      "[-2.95139879e-17 -2.56000000e-01  2.00000000e-03  1.00000000e+00]\n"
     ]
    }
   ],
   "source": [
    "# SIMULATOR\n",
    "# initialise robot model class\n",
    "model = robotarm_3RP()\n",
    "p  = model.FK_SDH()\n",
    "for i in range(len(p)):\n",
    "    print(p[i])"
   ]
  },
  {
   "cell_type": "code",
   "execution_count": 83,
   "id": "f973a423",
   "metadata": {},
   "outputs": [
    {
     "data": {
      "text/plain": [
       "[<mpl_toolkits.mplot3d.art3d.Line3D at 0x2aca3fcfaf0>]"
      ]
     },
     "execution_count": 83,
     "metadata": {},
     "output_type": "execute_result"
    },
    {
     "data": {
      "image/png": "[encoded data removed]",
      "text/plain": [
       "<Figure size 432x288 with 1 Axes>"
      ]
     },
     "metadata": {
      "needs_background": "light"
     },
     "output_type": "display_data"
    }
   ],
   "source": [
    "from mpl_toolkits import mplot3d\n",
    "import matplotlib.pyplot as plt\n",
    "import numpy as np\n",
    "\n",
    "ax = plt.axes(projection='3d')\n",
    "ax.scatter3D(0, 0, 0)\n",
    "x_values = []\n",
    "y_values = []\n",
    "z_values = []\n",
    "for i in range(len(p)):\n",
    "    x = p[i][0]\n",
    "    y = p[i][1] \n",
    "    z = p[i][2]\n",
    "    ax.scatter3D(x, y, z)\n",
    "    x_values.append(x)\n",
    "    y_values.append(y)\n",
    "    z_values.append(z)\n",
    "\n",
    "ax.plot(x_values,y_values,z_values)\n",
    "\n"
   ]
  },
  {
   "cell_type": "code",
   "execution_count": 69,
   "id": "a23ede57",
   "metadata": {},
   "outputs": [
    {
     "data": {
      "text/plain": [
       "[<mpl_toolkits.mplot3d.art3d.Line3D at 0x2aca38ed070>]"
      ]
     },
     "execution_count": 69,
     "metadata": {},
     "output_type": "execute_result"
    }
   ],
   "source": [
    "ax.plot(x,y,z)"
   ]
  },
  {
   "cell_type": "code",
   "execution_count": null,
   "id": "49eeb1aa",
   "metadata": {},
   "outputs": [],
   "source": [
    "ax = plt.axes(projection='3d')\n",
    "zdata = 15 * np.random.random(100)\n",
    "xdata = np.sin(zdata) + 0.1 * np.random.randn(100)\n",
    "ydata = np.cos(zdata) + 0.1 * np.random.randn(100)\n",
    "ax.scatter3D(xdata, ydata, zdata, c=zdata, cmap='Greens')"
   ]
  },
  {
   "cell_type": "code",
   "execution_count": null,
   "id": "382e31fd",
   "metadata": {},
   "outputs": [],
   "source": [
    "'''SIMULATION'''\n",
    "# SIMULATION PARAMETERS\n",
    "dt = 0.5  # intergration step timedt = 0.01 # integration step time\n",
    "dts = dt * 1  # desired simulation step time (NOTE: it may not be achieved)\n",
    "\n",
    "# ROBOT PARAMETERS\n",
    "x0 = 0.0  # base x position\n",
    "y0 = 0.0  # base y position\n",
    "l1 = 0.3  # link 1 length\n",
    "l2 = 0.3  # link 2 length\n",
    "l = [l1, l2]  # link length\n",
    "\n",
    "# REFERENCE TRAJETORY\n",
    "x = 1\n",
    "y = 1\n",
    "\n",
    "# SIMULATOR\n",
    "# initialise robot model class\n",
    "model = robot_arm_2dof(l)\n",
    "q_init = [-np.pi, np.pi/2]\n",
    "model.Init_state(q_init)\n",
    "p_ref = [0.0, 0.6]  # reference endpoint trajectory\n",
    "q_IK_numerical, q_sim = model.IK_Numerical(p_ref)\n",
    "print(\"iteration for\", len(q_sim))\n",
    "q_IK_analytical = model.IK_Analytical(p_ref)\n",
    "pr_numerical = model.FK(q_IK_numerical)\n",
    "# print(q_sim)"
   ]
  },
  {
   "cell_type": "code",
   "execution_count": null,
   "id": "93ba5ef5",
   "metadata": {},
   "outputs": [],
   "source": [
    "# initialise real-time plot with pygame\n",
    "def run_game(q_sim):\n",
    "    pygame.init()  # start pygame\n",
    "    window = pygame.display.set_mode((800, 600))  # create a window (size in pixels)\n",
    "    window.fill((255, 255, 255))  # white background\n",
    "    xc, yc = window.get_rect().center  # window center\n",
    "    pygame.display.set_caption('robot arm')\n",
    "\n",
    "    font = pygame.font.Font('freesansbold.ttf', 12)  # printing text font and font size\n",
    "    text = font.render('robot arm', True, (0, 0, 0), (255, 255, 255))  # printing text object\n",
    "    textRect = text.get_rect()\n",
    "    textRect.topleft = (10, 10)  # printing text position with respect to the top-left corner of the window\n",
    "\n",
    "    clock = pygame.time.Clock()  # initialise clock\n",
    "    FPS = int(1 / dts)  # refresh rate\n",
    "\n",
    "    # initial conditions\n",
    "    state = []  # state vector\n",
    "\n",
    "    # scaling\n",
    "    window_scale = 400  # conversion from meters to pixles\n",
    "\n",
    "    # wait until the start button is pressed\n",
    "    run = True\n",
    "    while run:\n",
    "    # MAIN LOOP\n",
    "        for i in range(len(q_sim)):\n",
    "            # update individual link position    \n",
    "            x1 = l1 * np.cos(q_sim[i][0])\n",
    "            y1 = l1 * np.sin(q_sim[i][0])\n",
    "            x2 = x1 + l2 * np.cos(q_sim[i][0] + q_sim[i][1])\n",
    "            y2 = y1 + l2 * np.sin(q_sim[i][0] + q_sim[i][1])\n",
    "            # real-time plotting\n",
    "            window.fill((255, 255, 255))  # clear window\n",
    "            pygame.draw.circle(window, (0, 255, 0), (int(window_scale * p_ref[0]) + xc, int(-window_scale * p_ref[1]) + yc),\n",
    "                               10)  # draw reference position\n",
    "\n",
    "            pygame.draw.lines(window, (0, 0, 255), False, [(window_scale * x0 + xc, -window_scale * y0 + yc),\n",
    "                                                           (window_scale * x1 + xc, -window_scale * y1 + yc),\n",
    "                                                           (window_scale * x2 + xc, -window_scale * y2 + yc)], 3)  # draw\n",
    "            # links\n",
    "            pygame.draw.circle(window, (0, 0, 0), (int(window_scale * x0) + xc, int(-window_scale * y0) + yc),\n",
    "                               7)  # draw shoulder / base\n",
    "            pygame.draw.circle(window, (0, 0, 0), (int(window_scale * x1) + xc, int(-window_scale * y1) + yc),\n",
    "                               7)  # draw elbow\n",
    "            pygame.draw.circle(window, (255, 0, 0), (int(window_scale * x2) + xc, int(-window_scale * y2) + yc),\n",
    "                               5)  # draw hand / endpoint\n",
    "            text = font.render(\"FPS = \" + str(round(clock.get_fps())), True, (0, 0, 0), (255, 255, 255))\n",
    "            window.blit(text, textRect)\n",
    "            pygame.display.flip()  # update display\n",
    "            clock.tick(FPS)  # try to keep it real time with the desired step time \n",
    "        run = False\n",
    "    pygame.quit()"
   ]
  },
  {
   "cell_type": "code",
   "execution_count": null,
   "id": "468ab934",
   "metadata": {},
   "outputs": [],
   "source": [
    "run_game(q_sim)"
   ]
  },
  {
   "cell_type": "code",
   "execution_count": null,
   "id": "15dd1c66",
   "metadata": {},
   "outputs": [],
   "source": []
  }
 ],
 "metadata": {
  "kernelspec": {
   "display_name": "Robot",
   "language": "python",
   "name": "robot"
  },
  "language_info": {
   "codemirror_mode": {
    "name": "ipython",
    "version": 3
   },
   "file_extension": ".py",
   "mimetype": "text/x-python",
   "name": "python",
   "nbconvert_exporter": "python",
   "pygments_lexer": "ipython3",
   "version": "3.9.12"
  }
 },
 "nbformat": 4,
 "nbformat_minor": 5
}
